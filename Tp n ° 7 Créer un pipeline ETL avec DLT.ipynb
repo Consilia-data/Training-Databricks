{
 "cells": [
  {
   "cell_type": "markdown",
   "metadata": {
    "application/vnd.databricks.v1+cell": {
     "cellMetadata": {},
     "inputWidgets": {},
     "nuid": "6d5a5f8c-364d-4764-88f1-43a7d975f5ab",
     "showTitle": false,
     "tableResultSettingsMap": {},
     "title": ""
    }
   },
   "source": [
    "### Créer un pipeline ETL avec DLT"
   ]
  },
  {
   "cell_type": "markdown",
   "metadata": {
    "application/vnd.databricks.v1+cell": {
     "cellMetadata": {},
     "inputWidgets": {},
     "nuid": "286744ad-23ef-48b9-9b75-b23e61f22e97",
     "showTitle": false,
     "tableResultSettingsMap": {},
     "title": ""
    }
   },
   "source": [
    "Dans le dossier ETL_Pipeline, le notebook "
   ]
  },
  {
   "cell_type": "markdown",
   "metadata": {
    "application/vnd.databricks.v1+cell": {
     "cellMetadata": {},
     "inputWidgets": {},
     "nuid": "34b5633c-1167-408d-be47-143bf16f16a7",
     "showTitle": false,
     "tableResultSettingsMap": {},
     "title": ""
    }
   },
   "source": [
    "Nous utiliserons DLT et le chargeur automatique pour : \n",
    "\n",
    "- Ingérer des données sources brutes dans une table cible.\n",
    "- Transformez les données sources brutes et écrivez les données transformées en deux vues matérialisées cibles.\n",
    "- Interrogez les données transformées.\n",
    "- Automatisez le pipeline ETL avec une tâche Databricks."
   ]
  },
  {
   "cell_type": "markdown",
   "metadata": {
    "application/vnd.databricks.v1+cell": {
     "cellMetadata": {},
     "inputWidgets": {},
     "nuid": "0e9f1c1c-2b26-411e-ae70-a475ee8ee7d7",
     "showTitle": false,
     "tableResultSettingsMap": {},
     "title": ""
    }
   },
   "source": [
    "- Dans cette étape, vous allez utiliser Databricks Notebooks pour développer et valider du code source pour les pipelines DLT de manière interactive. \n",
    "\n",
    "- Le code utilise le chargeur automatique pour l’ingestion de données incrémentielles. Auto Loader détecte et traite automatiquement les nouveaux fichiers à mesure qu’ils arrivent dans le stockage"
   ]
  },
  {
   "cell_type": "code",
   "execution_count": 0,
   "metadata": {
    "application/vnd.databricks.v1+cell": {
     "cellMetadata": {
      "byteLimit": 2048000,
      "rowLimit": 10000
     },
     "inputWidgets": {},
     "nuid": "65fd32c5-669a-4827-8f33-0cf35e97a675",
     "showTitle": false,
     "tableResultSettingsMap": {},
     "title": ""
    }
   },
   "outputs": [],
   "source": [
    "file_path = f\"/databricks-datasets/songs/data-001/\"\n",
    "\n",
    "display(dbutils.fs.ls(file_path))"
   ]
  }
 ],
 "metadata": {
  "application/vnd.databricks.v1+notebook": {
   "computePreferences": null,
   "dashboards": [],
   "environmentMetadata": {
    "base_environment": "",
    "environment_version": "2"
   },
   "inputWidgetPreferences": null,
   "language": "python",
   "notebookMetadata": {
    "pythonIndentUnit": 4
   },
   "notebookName": "Tp n ° 7 Créer un pipeline ETL avec DLT",
   "widgets": {}
  },
  "language_info": {
   "name": "python"
  }
 },
 "nbformat": 4,
 "nbformat_minor": 0
}
