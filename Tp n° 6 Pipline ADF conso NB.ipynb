{
 "cells": [
  {
   "cell_type": "markdown",
   "metadata": {
    "application/vnd.databricks.v1+cell": {
     "cellMetadata": {},
     "inputWidgets": {},
     "nuid": "77e25b0b-bda0-42ab-97a1-e36db13b07cd",
     "showTitle": false,
     "tableResultSettingsMap": {},
     "title": ""
    }
   },
   "source": [
    "### L'objectif est creer un pipeline ADF qui :\n",
    "\n",
    "- Sauvegarde (copy) un fichier CSV contenu dans ADLS 2 vers le dossier /bronze\n",
    "\n",
    "- Invoque un notebook Databricks\n",
    "\n",
    "- Le notebook ingére le fichier CSV source\n",
    "\n",
    "- Transforme les données (nettoyage + filtre)\n",
    "\n",
    "- Écrit les données finales au format Delta Lake + stockage dans ADLS"
   ]
  },
  {
   "cell_type": "markdown",
   "metadata": {
    "application/vnd.databricks.v1+cell": {
     "cellMetadata": {},
     "inputWidgets": {},
     "nuid": "0eaa9bb5-fd59-4869-ad5c-b84e241fc759",
     "showTitle": false,
     "tableResultSettingsMap": {},
     "title": ""
    }
   },
   "source": [
    "✅ Étapes dans Azure Data Factory\\\n",
    "🔹 Étape 1 : Créer les linked services\n",
    "- 🔗 Azure Data Lake Storage Gen2 (source et destination)\n",
    "- 🔗 Azure Databricks workspace\n",
    "\n",
    "🔹 Étape 2 : Créer un pipeline ADF\\\n",
    "Contenu du pipeline :\n",
    "\n",
    "- 🧱 1. Copy Data (optionnel, ingestion brute) Source : Fichier CSV dans /input/\n",
    "\n",
    "- Sink :  /bronze/sauvegarde_loto_201902__.csv (pour sauvegarder avant traitement)\n",
    "\n",
    "![Vue sur Azure Data Factory](https://drive.google.com/uc?export=view&id=1dc9jmBzeX_V1ChfJxeGWR4VL5rjvvwB3)\n",
    " \n",
    "\n",
    "\n"
   ]
  },
  {
   "cell_type": "markdown",
   "metadata": {
    "application/vnd.databricks.v1+cell": {
     "cellMetadata": {},
     "inputWidgets": {},
     "nuid": "9adc90af-c1b7-46e1-90af-66cab70c1e2f",
     "showTitle": false,
     "tableResultSettingsMap": {},
     "title": ""
    }
   },
   "source": [
    "- Ce notebook lit le fichier loto_201902__.csv depuis Azure Data Lake Storage Gen2, filtre les tirages effectués uniquement les samedis entre le 1er janvier 2019 et le 31 décembre 2019, convertit les types de données nécessaires, et sauvegarde les résultats au format Delta Lake dans un chemin de sortie défini. \n",
    "\n",
    "- Ce traitement est utilisé dans un pipeline Azure Data Factory pour automatiser la chaîne d'ingestion et de transformation des données Loto."
   ]
  },
  {
   "cell_type": "code",
   "execution_count": 0,
   "metadata": {
    "application/vnd.databricks.v1+cell": {
     "cellMetadata": {
      "byteLimit": 2048000,
      "rowLimit": 10000
     },
     "inputWidgets": {},
     "nuid": "127ea36f-0eb4-432c-a84d-c3a17a4e3d1d",
     "showTitle": false,
     "tableResultSettingsMap": {},
     "title": ""
    }
   },
   "outputs": [],
   "source": [
    "storage_account_key = dbutils.secrets.get(scope=\"key_adls\", key=\"storage_key\")\n",
    "# Configuration de l'accès au compte de stockage Azure comptestorage0000000001\n",
    "spark.conf.set(\"fs.azure.account.key.comptestorage0000000001.dfs.core.windows.net\", storage_account_key)"
   ]
  },
  {
   "cell_type": "code",
   "execution_count": 0,
   "metadata": {
    "application/vnd.databricks.v1+cell": {
     "cellMetadata": {
      "byteLimit": 2048000,
      "rowLimit": 10000
     },
     "inputWidgets": {},
     "nuid": "397c55ca-495f-43a8-b3b3-13b2ce189f87",
     "showTitle": false,
     "tableResultSettingsMap": {},
     "title": ""
    }
   },
   "outputs": [],
   "source": [
    "from pyspark.sql.functions import to_date, col, trim, upper\n",
    "\n",
    "#Chemin vers le conteneur Azure \"test\"\n",
    " \n",
    "dbutils.widgets.text(\"input_path\", \"abfss://test@comptestorage0000000001.dfs.core.windows.net/input/loto_201902__.csv\")\n",
    "dbutils.widgets.text(\"output_path\", \"abfss://test@comptestorage0000000001.dfs.core.windows.net/bronze/Bronze_loto_samedis_2019\")\n",
    "\n",
    "input_path = dbutils.widgets.get(\"input_path\")\n",
    "output_path = dbutils.widgets.get(\"output_path\")\n",
    "\n",
    "# Lecture CSV brut\n",
    "\n",
    "\n",
    "df = (\n",
    "    spark.read.format(\"csv\")\n",
    "    .option(\"header\", \"true\")\n",
    "    .option(\"delimiter\", \";\")\n",
    "    .load(input_path)\n",
    ")\n",
    "\n",
    "# Nettoyage et filtrage\n",
    "df_cleaned = (\n",
    "    df.withColumn(\"date_de_tirage\", to_date(\"date_de_tirage\", \"dd/MM/yyyy\"))\n",
    "      .withColumn(\"date_de_forclusion\", to_date(\"date_de_forclusion\", \"dd/MM/yyyy\"))\n",
    "      .withColumn(\"nombre_de_gagnant_au_rang1\", col(\"nombre_de_gagnant_au_rang1\").cast(\"int\"))\n",
    "      .withColumn(\"jour_de_tirage\", trim(upper(col(\"jour_de_tirage\"))))\n",
    "      .filter(\n",
    "          (col(\"date_de_tirage\") >= \"2019-01-01\") &\n",
    "          (col(\"date_de_forclusion\") < \"2020-01-01\") &\n",
    "          (col(\"jour_de_tirage\") == \"SAMEDI\")\n",
    "      )\n",
    ")\n",
    "\n",
    "\n"
   ]
  },
  {
   "cell_type": "code",
   "execution_count": 0,
   "metadata": {
    "application/vnd.databricks.v1+cell": {
     "cellMetadata": {},
     "inputWidgets": {},
     "nuid": "637e6c20-18c8-437e-af2c-3625bbfeb192",
     "showTitle": false,
     "tableResultSettingsMap": {},
     "title": ""
    }
   },
   "outputs": [],
   "source": [
    "# Sauvegarde en format Delta\n",
    "df_cleaned.write.format(\"delta\").mode(\"overwrite\").save(output_path)"
   ]
  }
 ],
 "metadata": {
  "application/vnd.databricks.v1+notebook": {
   "computePreferences": null,
   "dashboards": [],
   "environmentMetadata": {
    "base_environment": "",
    "environment_version": "2"
   },
   "inputWidgetPreferences": null,
   "language": "python",
   "notebookMetadata": {
    "pythonIndentUnit": 4
   },
   "notebookName": "Tp n° 6 Pipline ADF conso NB",
   "widgets": {
    "input_path": {
     "currentValue": "abfss://test@comptestorage0000000001.dfs.core.windows.net/input/loto_201902__.csv",
     "nuid": "2254c535-553f-4631-9bcb-0d8aeae1f0d9",
     "typedWidgetInfo": {
      "autoCreated": false,
      "defaultValue": "abfss://test@comptestorage0000000001.dfs.core.windows.net/input/loto_201902__.csv",
      "label": null,
      "name": "input_path",
      "options": {
       "widgetDisplayType": "Text",
       "validationRegex": null
      },
      "parameterDataType": "String"
     },
     "widgetInfo": {
      "widgetType": "text",
      "defaultValue": "abfss://test@comptestorage0000000001.dfs.core.windows.net/input/loto_201902__.csv",
      "label": null,
      "name": "input_path",
      "options": {
       "widgetType": "text",
       "autoCreated": false,
       "validationRegex": null
      }
     }
    },
    "output_path": {
     "currentValue": "abfss://test@comptestorage0000000001.dfs.core.windows.net/bronze/Bronze_loto_samedis_2019",
     "nuid": "bf18226b-e6d8-4c62-9754-d854476845b0",
     "typedWidgetInfo": {
      "autoCreated": false,
      "defaultValue": "abfss://test@comptestorage0000000001.dfs.core.windows.net/bronze/Bronze_loto_samedis_2019",
      "label": null,
      "name": "output_path",
      "options": {
       "widgetDisplayType": "Text",
       "validationRegex": null
      },
      "parameterDataType": "String"
     },
     "widgetInfo": {
      "widgetType": "text",
      "defaultValue": "abfss://test@comptestorage0000000001.dfs.core.windows.net/bronze/Bronze_loto_samedis_2019",
      "label": null,
      "name": "output_path",
      "options": {
       "widgetType": "text",
       "autoCreated": false,
       "validationRegex": null
      }
     }
    }
   }
  },
  "language_info": {
   "name": "python"
  }
 },
 "nbformat": 4,
 "nbformat_minor": 0
}
