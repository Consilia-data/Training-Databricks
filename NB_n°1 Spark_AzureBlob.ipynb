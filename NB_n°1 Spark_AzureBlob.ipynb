{
 "cells": [
  {
   "cell_type": "markdown",
   "metadata": {
    "application/vnd.databricks.v1+cell": {
     "cellMetadata": {},
     "inputWidgets": {},
     "nuid": "d6647b1f-7da3-4c82-acfa-8311c242a831",
     "showTitle": false,
     "tableResultSettingsMap": {},
     "title": ""
    }
   },
   "source": [
    "#   1. Création & Récupération sécurisée de la clé depuis le secret scope\n",
    "# \n",
    "Dans le code qui suit, l'instruction permet de  récupèrer une valeur sensible. \n",
    "Il s'agit de la clé de stockage Azure enregistrée dans le secret scope nommé key3."
   ]
  },
  {
   "cell_type": "code",
   "execution_count": 0,
   "metadata": {
    "application/vnd.databricks.v1+cell": {
     "cellMetadata": {
      "byteLimit": 2048000,
      "rowLimit": 10000
     },
     "inputWidgets": {},
     "nuid": "5d0ec56f-dfdd-44a9-a68c-9806aa98d742",
     "showTitle": false,
     "tableResultSettingsMap": {},
     "title": ""
    }
   },
   "outputs": [],
   "source": [
    "spark.conf.set('fs.azure.account.key.comptestockage001.blob.core.windows.net',  dbutils.secrets.get('blobstorage_scope', 'key3'))"
   ]
  },
  {
   "cell_type": "markdown",
   "metadata": {
    "application/vnd.databricks.v1+cell": {
     "cellMetadata": {},
     "inputWidgets": {},
     "nuid": "02cda21e-5679-4551-9155-e07e6a47f5b9",
     "showTitle": false,
     "tableResultSettingsMap": {},
     "title": ""
    }
   },
   "source": [
    "# 2. Configuration de Spark pour l’accès au compte de stockage\n",
    "\n",
    "Nous devons définir une configuration Spark temporaire, qui permet à Spark (et à Hadoop) d’accéder au compte Azure Blob Storage nommé :\n",
    "\n",
    "\"comptestockage001.blob.core.windows.net\""
   ]
  },
  {
   "cell_type": "code",
   "execution_count": 0,
   "metadata": {
    "application/vnd.databricks.v1+cell": {
     "cellMetadata": {
      "byteLimit": 2048000,
      "rowLimit": 10000
     },
     "inputWidgets": {},
     "nuid": "ac3af418-5fbc-41bb-96c3-9d0c25ff1753",
     "showTitle": false,
     "tableResultSettingsMap": {},
     "title": ""
    }
   },
   "outputs": [],
   "source": [
    "df = spark.read.text('wasbs://adfv2tutorial@comptestockage001.blob.core.windows.net/test__ADF')\n",
    "display(df)\n",
    "\n",
    "\n"
   ]
  },
  {
   "cell_type": "markdown",
   "metadata": {
    "application/vnd.databricks.v1+cell": {
     "cellMetadata": {},
     "inputWidgets": {},
     "nuid": "4cf431d8-a29b-461c-96dc-6c7bdb68a53c",
     "showTitle": false,
     "tableResultSettingsMap": {},
     "title": ""
    }
   },
   "source": [
    "# 3. Lister les fichiers existants au sein du compte de stockage"
   ]
  },
  {
   "cell_type": "code",
   "execution_count": 0,
   "metadata": {
    "application/vnd.databricks.v1+cell": {
     "cellMetadata": {
      "byteLimit": 2048000,
      "rowLimit": 10000
     },
     "inputWidgets": {},
     "nuid": "e58e3fc8-b0db-4b66-abed-d76f8eebeb7b",
     "showTitle": false,
     "tableResultSettingsMap": {},
     "title": ""
    }
   },
   "outputs": [],
   "source": [
    "storage_account_name = \"comptestockage001\"\n",
    "container_name = \"adfv2tutorial\"\n",
    "conf_key = f\"fs.azure.account.key.{storage_account_name}.blob.core.windows.net\"\n",
    "\n",
    " \n",
    "# Récupération sécurisée de la clé depuis le secret scope\n",
    "storage_key = dbutils.secrets.get(scope=\"blobstorage_scope\", key=\"key3\")  # adapte les noms à ton contexte\n",
    "\n",
    "# Configuration Spark\n",
    "spark.conf.set(conf_key, storage_key)\n",
    " \n",
    "# Lister les fichiers à la racine du conteneur\n",
    "wasbs_path = f\"wasbs://{container_name}@{storage_account_name}.blob.core.windows.net/\"\n",
    "display(dbutils.fs.ls(wasbs_path))"
   ]
  }
 ],
 "metadata": {
  "application/vnd.databricks.v1+notebook": {
   "computePreferences": null,
   "dashboards": [],
   "environmentMetadata": {
    "base_environment": "",
    "environment_version": "2"
   },
   "inputWidgetPreferences": null,
   "language": "python",
   "notebookMetadata": {
    "pythonIndentUnit": 4
   },
   "notebookName": "NB_n°1 Spark_AzureBlob",
   "widgets": {}
  },
  "language_info": {
   "name": "python"
  }
 },
 "nbformat": 4,
 "nbformat_minor": 0
}
