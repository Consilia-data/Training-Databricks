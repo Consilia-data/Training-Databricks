{
 "cells": [
  {
   "cell_type": "code",
   "execution_count": 0,
   "metadata": {
    "application/vnd.databricks.v1+cell": {
     "cellMetadata": {
      "byteLimit": 2048000,
      "rowLimit": 10000
     },
     "inputWidgets": {},
     "nuid": "617b59a0-676a-475f-9f74-58031727305c",
     "showTitle": false,
     "tableResultSettingsMap": {},
     "title": ""
    }
   },
   "outputs": [],
   "source": [
    "\n",
    "storage_account_name = \"comptestorage0000000001\"    \n",
    "container_name = \"test\" \n",
    "secret_scope_name = \"kv-dbx-secrets\"                  \n",
    "secret_key_name = \"storage-key\"                       \n",
    "\n",
    "# Récupération de la clé d'accès depuis Key Vault via le scope\n",
    "storage_key = dbutils.secrets.get(scope=secret_scope_name, key=secret_key_name)\n",
    "\n",
    "# Configuration Spark pour accéder au compte de stockage\n",
    "spark.conf.set(f\"fs.azure.account.key.{storage_account_name}.dfs.core.windows.net\", storage_key)\n",
    "\n",
    "# Définir le chemin ABFS (Azure Blob File System pour Gen2)\n",
    "adls_path = f\"abfss://{container_name}@{storage_account_name}.dfs.core.windows.net/\"\n",
    "\n",
    "# Lister les fichiers dans le conteneur\n",
    "print(f\"Contenu de : {adls_path}\")\n",
    "\n",
    "try:\n",
    "    files = dbutils.fs.ls(adls_path)\n",
    "    for file in files:\n",
    "        print(f\"- {file.name} ({file.size} bytes)\")\n",
    "except Exception as e:\n",
    "    print(f\"Erreur lors de l'accès au stockage : {str(e)}\")    "
   ]
  }
 ],
 "metadata": {
  "application/vnd.databricks.v1+notebook": {
   "computePreferences": null,
   "dashboards": [],
   "environmentMetadata": {
    "base_environment": "",
    "environment_version": "2"
   },
   "inputWidgetPreferences": null,
   "language": "python",
   "notebookMetadata": {
    "pythonIndentUnit": 4
   },
   "notebookName": "TP n° 8 ____AzurekeyVault_ADLS",
   "widgets": {}
  },
  "language_info": {
   "name": "python"
  }
 },
 "nbformat": 4,
 "nbformat_minor": 0
}
